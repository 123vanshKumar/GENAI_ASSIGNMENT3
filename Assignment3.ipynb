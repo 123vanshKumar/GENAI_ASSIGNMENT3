{
 "cells": [
  {
   "cell_type": "code",
   "execution_count": null,
   "id": "45d11829",
   "metadata": {},
   "outputs": [],
   "source": [
    "from PyPDF2 import PdfReader\n",
    "from sentence_transformers import SentenceTransformer\n",
    "from transformers import pipeline\n",
    "import numpy as np\n",
    "import faiss\n",
    "\n",
    "# 1. Load and split the PDF\n",
    "def load_pdf_chunks(path, chunk_size=500):\n",
    "    reader = PdfReader(path)\n",
    "    text = \"\".join(page.extract_text() for page in reader.pages if page.extract_text())\n",
    "    return [text[i:i+chunk_size] for i in range(0, len(text), chunk_size)]\n",
    "\n",
    "chunks = load_pdf_chunks(\"DSA_Roadmap_After_Core_Topics.pdf\")"
   ]
  },
  {
   "cell_type": "code",
   "execution_count": 3,
   "id": "60491384",
   "metadata": {},
   "outputs": [],
   "source": [
    "# 2. Create embeddings for chunks\n",
    "model = SentenceTransformer(\"all-MiniLM-L6-v2\")\n",
    "chunk_embeddings = model.encode(chunks)"
   ]
  },
  {
   "cell_type": "code",
   "execution_count": 4,
   "id": "fdd219ce",
   "metadata": {},
   "outputs": [],
   "source": [
    "# 3. Build FAISS index\n",
    "index = faiss.IndexFlatL2(chunk_embeddings.shape[1])\n",
    "index.add(np.array(chunk_embeddings))"
   ]
  },
  {
   "cell_type": "code",
   "execution_count": 5,
   "id": "47d9bcc9",
   "metadata": {},
   "outputs": [],
   "source": [
    "# 4. Define questions\n",
    "questions = [\n",
    "    \"What topics should I study after core DSA?\",\n",
    "    \"Does it mention graph theory or dynamic programming?\",\n",
    "]"
   ]
  },
  {
   "cell_type": "code",
   "execution_count": 8,
   "id": "427198b2",
   "metadata": {},
   "outputs": [
    {
     "name": "stderr",
     "output_type": "stream",
     "text": [
      "Device set to use cpu\n"
     ]
    }
   ],
   "source": [
    "# 5. Load QA model (FLAN-T5)\n",
    "qa_model = pipeline(\"text2text-generation\", model=\"google/flan-t5-base\")"
   ]
  },
  {
   "cell_type": "code",
   "execution_count": 7,
   "id": "ca82ffd3",
   "metadata": {},
   "outputs": [
    {
     "name": "stdout",
     "output_type": "stream",
     "text": [
      "Q: What topics should I study after core DSA?\n",
      "A: Phase 1: Complete Core DSA 1. Recursion & Backtracking Subset sum, permutations, N-Queens, Sudoku solver 2. Binary Search (on arrays & on answers) Search in rotated sorted array, Koko eating bananas, Aggressive cows 3. Divide and Conquer Merge Sort, Quick Sort, Count Inversions Phase 2: Greedy & Heap 4. Greed\n",
      "\n",
      "Q: Does it mention graph theory or dynamic programming?\n",
      "A: graph theory\n",
      "\n"
     ]
    }
   ],
   "source": [
    "# 6. Ask questions\n",
    "for question in questions:\n",
    "    q_embedding = model.encode([question])\n",
    "    _, I = index.search(np.array(q_embedding), k=1)\n",
    "    top_chunk = chunks[I[0][0]]\n",
    "\n",
    "    prompt = f\"Answer this based on the text: \\\"{top_chunk}\\\"\\nQuestion: {question}\"\n",
    "    answer = qa_model(prompt, max_new_tokens=100)[0]['generated_text']\n",
    "    print(f\"Q: {question}\\nA: {answer}\\n\")"
   ]
  }
 ],
 "metadata": {
  "kernelspec": {
   "display_name": "Python 3 (ipykernel)",
   "language": "python",
   "name": "python3"
  },
  "language_info": {
   "codemirror_mode": {
    "name": "ipython",
    "version": 3
   },
   "file_extension": ".py",
   "mimetype": "text/x-python",
   "name": "python",
   "nbconvert_exporter": "python",
   "pygments_lexer": "ipython3",
   "version": "3.10.0"
  }
 },
 "nbformat": 4,
 "nbformat_minor": 5
}
